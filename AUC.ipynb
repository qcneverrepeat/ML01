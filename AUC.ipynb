{
 "cells": [
  {
   "cell_type": "code",
   "execution_count": 52,
   "metadata": {},
   "outputs": [],
   "source": [
    "import numpy as np\n",
    "import pandas as pd\n",
    "import matplotlib.pyplot as plt\n",
    "from collections import Counter\n",
    "from scipy import stats\n",
    "from scipy.integrate import quad,dblquad,nquad\n",
    "\n",
    "from sklearn import metrics"
   ]
  },
  {
   "cell_type": "code",
   "execution_count": 64,
   "metadata": {},
   "outputs": [],
   "source": [
    "def ROC(label, predict, pos_label, method = 1):\n",
    "        '''\n",
    "        input: label, predict score, both in series or array\n",
    "        output: ROC curve\n",
    "        method = 1: one-by-one change to positive, from larger score to little\n",
    "        method = 2: change threshold, suitable for large dataset\n",
    "        only when the score order is true (i.e., label sorted as ---...---+++...+++ without chaos), AUC=1\n",
    "        <=> there is a threshold under which the accuracy = 100%\n",
    "        '''\n",
    "        \n",
    "        # 0-1 normalization; sorting by column predict\n",
    "        frame = pd.DataFrame({'label':label, 'predict':predict})\n",
    "        frame['predict'] = (frame['predict']-frame['predict'].min())/np.ptp(frame['predict'])\n",
    "        frame = frame.sort_values(by='predict', ascending=False)\n",
    "        frame.index = range(1,frame.shape[0]+1)\n",
    "        \n",
    "        # identify the positive & negative label\n",
    "        # if not given, choose the majority of labels with 5 highest score as pos_label\n",
    "        if pos_label == None:\n",
    "            pos_label = list(Counter(frame[0].tail()).keys())[0]\n",
    "        label_set = list(frame['label'].drop_duplicates())\n",
    "        label_set.remove(pos_label)\n",
    "        neg_label = label_set[0]\n",
    "\n",
    "        P = Counter(frame['label'])[pos_label]\n",
    "        N = Counter(frame['label'])[neg_label]\n",
    "        \n",
    "        frame['temp'] = neg_label\n",
    "        TPRate = []\n",
    "        FPRate = []                                           \n",
    "\n",
    "        # method 1: one-by-one change to positive\n",
    "        if method == 1:\n",
    "            TPRate.append(0)\n",
    "            FPRate.append(0)\n",
    "            for i in range(label.size):\n",
    "                frame.iloc[i,2] = pos_label\n",
    "                try:                \n",
    "                    if frame['predict'].iloc[i] == frame['predict'].iloc[i+1]:\n",
    "                        continue\n",
    "                except:\n",
    "                    pass\n",
    "                TPR = sum(frame[frame.iloc[:,0] == frame.iloc[:,2]].iloc[:,0] == pos_label)/P\n",
    "                FPR = 1 - sum(frame[frame.iloc[:,0] == frame.iloc[:,2]].iloc[:,0] == neg_label)/N\n",
    "                TPRate.append(TPR)\n",
    "                FPRate.append(FPR)\n",
    "                \n",
    "        # method 2: change threshold in uniform\n",
    "        elif method == 2:\n",
    "            for thres in [x*0.01 for x in range(101)]:\n",
    "                frame['temp'][frame['predict'] >= 1-thres] = pos_label\n",
    "                TPR = sum(frame[frame.iloc[:,0] == frame.iloc[:,2]].iloc[:,0] == pos_label)/P\n",
    "                FPR = 1 - sum(frame[frame.iloc[:,0] == frame.iloc[:,2]].iloc[:,0] == neg_label)/N\n",
    "                TPRate.append(TPR) \n",
    "                FPRate.append(FPR)     \n",
    "                \n",
    "        # calculating AUC value\n",
    "        FPRate.append(0)\n",
    "        TPRate.append(0)\n",
    "        de_FPR = np.array(FPRate[1:])-np.array(FPRate[:-1]) # 错位相减\n",
    "        AUC = np.array(TPRate[1:]).dot(de_FPR.T)\n",
    "        FPRate.pop()\n",
    "        TPRate.pop()\n",
    "        \n",
    "        # another method \n",
    "        AUC1 = 1 - (sum(frame[frame['label'] == pos_label].index) - 0.5*P*(P+1))/(N*P)\n",
    "\n",
    "        # draw ROC plot\n",
    "        plt.plot(FPRate,TPRate)\n",
    "        plt.title('ROC')\n",
    "        plt.xlabel('FPRate')\n",
    "        plt.ylabel('TPRate')\n",
    "        plt.text(0.7,0.3,'AUC value: %0.3f'%AUC)\n",
    "        plt.show()\n",
    "\n",
    "        print(AUC,AUC1)"
   ]
  },
  {
   "cell_type": "code",
   "execution_count": 65,
   "metadata": {},
   "outputs": [],
   "source": [
    "pre = pd.Series(np.random.randn(100,))\n",
    "la = pd.Series(np.random.randint(0,2,[100,]))"
   ]
  },
  {
   "cell_type": "code",
   "execution_count": 70,
   "metadata": {},
   "outputs": [
    {
     "name": "stdout",
     "output_type": "stream",
     "text": [
      "0.5258932155760738\n"
     ]
    },
    {
     "data": {
      "text/plain": [
       "[<matplotlib.lines.Line2D at 0x2661f558b38>]"
      ]
     },
     "execution_count": 70,
     "metadata": {},
     "output_type": "execute_result"
    },
    {
     "data": {
      "image/png": "[encoded data removed]",
      "text/plain": [
       "<Figure size 432x288 with 1 Axes>"
      ]
     },
     "metadata": {
      "needs_background": "light"
     },
     "output_type": "display_data"
    }
   ],
   "source": [
    "fpr, tpr, thresholds = metrics.roc_curve(la, pre, pos_label=1)\n",
    "print(metrics.auc(fpr, tpr))\n",
    "plt.plot(fpr,tpr)"
   ]
  },
  {
   "cell_type": "code",
   "execution_count": 71,
   "metadata": {},
   "outputs": [
    {
     "name": "stderr",
     "output_type": "stream",
     "text": [
      "D:\\installation\\anaconda\\lib\\site-packages\\numpy\\core\\fromnumeric.py:2389: FutureWarning: Method .ptp is deprecated and will be removed in a future version. Use numpy.ptp instead.\n",
      "  return ptp(axis=axis, out=out, **kwargs)\n"
     ]
    },
    {
     "data": {
      "image/png": "[encoded data removed]",
      "text/plain": [
       "<Figure size 432x288 with 1 Axes>"
      ]
     },
     "metadata": {
      "needs_background": "light"
     },
     "output_type": "display_data"
    },
    {
     "name": "stdout",
     "output_type": "stream",
     "text": [
      "0.5274989963869932 0.5258932155760738\n"
     ]
    }
   ],
   "source": [
    "ROC(la,pre,pos_label=1,method=1)"
   ]
  }
 ],
 "metadata": {
  "kernelspec": {
   "display_name": "Python 3",
   "language": "python",
   "name": "python3"
  },
  "language_info": {
   "codemirror_mode": {
    "name": "ipython",
    "version": 3
   },
   "file_extension": ".py",
   "mimetype": "text/x-python",
   "name": "python",
   "nbconvert_exporter": "python",
   "pygments_lexer": "ipython3",
   "version": "3.7.3"
  }
 },
 "nbformat": 4,
 "nbformat_minor": 2
}
